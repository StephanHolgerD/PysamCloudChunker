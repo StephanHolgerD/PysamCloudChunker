{
 "cells": [
  {
   "cell_type": "code",
   "execution_count": 26,
   "metadata": {},
   "outputs": [],
   "source": [
    "import pysam\n",
    "from time import time"
   ]
  },
  {
   "cell_type": "code",
   "execution_count": 50,
   "metadata": {},
   "outputs": [],
   "source": [
    "def GetBamChunk(bam,bai,chrom,start,stop,outname):\n",
    "    counter = 0\n",
    "    with pysam.AlignmentFile(bam,filepath_index=bai) as f:\n",
    "        with pysam.AlignmentFile(outname,'wb',template=f) as bamout:\n",
    "            for r in f.fetch(chrom,start,stop,until_eof=True):\n",
    "                bamout.write(r)\n",
    "                counter = counter + 1\n",
    "    return counter\n",
    "    "
   ]
  },
  {
   "cell_type": "code",
   "execution_count": 51,
   "metadata": {},
   "outputs": [],
   "source": [
    "bam = 'https://lvms-prod-10102-filebucket.s3.eu-west-1.amazonaws.com/reffiles/bla.bam'\n",
    "\n",
    "bai = 'https://lvms-prod-10102-filebucket.s3.eu-west-1.amazonaws.com/reffiles/bla.bai'\n",
    "\n"
   ]
  },
  {
   "cell_type": "code",
   "execution_count": 52,
   "metadata": {},
   "outputs": [
    {
     "name": "stdout",
     "output_type": "stream",
     "text": [
      "1.0282542705535889\n"
     ]
    }
   ],
   "source": [
    "x = time()\n",
    "c = GetBamChunk(bam,bai,'6',3152950,3188350,'test.bam')\n",
    "print(time()-x)"
   ]
  }
 ],
 "metadata": {
  "kernelspec": {
   "display_name": "Python 3 (ipykernel)",
   "language": "python",
   "name": "python3"
  },
  "language_info": {
   "codemirror_mode": {
    "name": "ipython",
    "version": 3
   },
   "file_extension": ".py",
   "mimetype": "text/x-python",
   "name": "python",
   "nbconvert_exporter": "python",
   "pygments_lexer": "ipython3",
   "version": "3.10.4"
  }
 },
 "nbformat": 4,
 "nbformat_minor": 4
}
